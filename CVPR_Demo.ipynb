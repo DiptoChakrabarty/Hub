{
 "cells": [
  {
   "cell_type": "code",
   "execution_count": null,
   "metadata": {},
   "outputs": [],
   "source": [
    "from hub import Dataset # Single import from Hub\n",
    "\n",
    "import time\n",
    "import os\n",
    "import numpy as np\n",
    "import glob\n",
    "from PIL import Image"
   ]
  },
  {
   "cell_type": "markdown",
   "metadata": {},
   "source": [
    "# Creating a Classification Dataset"
   ]
  },
  {
   "cell_type": "markdown",
   "metadata": {},
   "source": [
    "### User Inputs"
   ]
  },
  {
   "cell_type": "code",
   "execution_count": null,
   "metadata": {},
   "outputs": [],
   "source": [
    "folder_paths = glob.glob(r\"..\\Datasets\\animals\\*\") # Path to existing dataset\n",
    "\n",
    "dataset_name = \"animals_hub\"\n",
    "hub_dataset_path = \"..\\Datasets\\{}\".format(dataset_name)\n",
    "\n",
    "# Dataset path can be an S3 bucket or other destination in the cloud\n",
    "# dataset_path = \"s3://hub-2.0-datasets/{}\".format(dataset_name)"
   ]
  },
  {
   "cell_type": "markdown",
   "metadata": {},
   "source": [
    "### Initialize Dataset"
   ]
  },
  {
   "cell_type": "code",
   "execution_count": null,
   "metadata": {},
   "outputs": [],
   "source": [
    "ds = Dataset(hub_dataset_path, mode=\"w\")"
   ]
  },
  {
   "cell_type": "markdown",
   "metadata": {},
   "source": [
    "### Populate Tensors"
   ]
  },
  {
   "cell_type": "code",
   "execution_count": null,
   "metadata": {},
   "outputs": [],
   "source": [
    "#Define the dataset tensors\n",
    "ds.create_tensor(\"images\")\n",
    "ds.create_tensor(\"labels\")\n",
    "\n",
    "# Iterate through the subfolders (/dogs, /cats)\n",
    "for label, folder_path in enumerate(folder_paths):\n",
    "\n",
    "    paths = glob.glob(os.path.join(folder_path, \"*\"))\n",
    "    \n",
    "    # Iterate through images in the subfolders\n",
    "    for sample_num, path in enumerate(paths):\n",
    "        ds.images.append(np.array(Image.open(path))) # Append to images tensor\n",
    "        ds.labels.append(np.array([label])) # Append to labels tensor\n",
    "        \n",
    "ds.flush() #This will not be needed in the future"
   ]
  },
  {
   "cell_type": "markdown",
   "metadata": {},
   "source": [
    "### Access Data"
   ]
  },
  {
   "cell_type": "code",
   "execution_count": null,
   "metadata": {},
   "outputs": [],
   "source": [
    "#Load dataset from a local folder or cloud storage\n",
    "ds_read = Dataset(hub_dataset_path)"
   ]
  },
  {
   "cell_type": "code",
   "execution_count": null,
   "metadata": {},
   "outputs": [],
   "source": [
    "print(ds_read.labels[0].numpy())"
   ]
  },
  {
   "cell_type": "code",
   "execution_count": null,
   "metadata": {},
   "outputs": [],
   "source": [
    "# Display an image\n",
    "Image.fromarray(ds_read.images[0].numpy())"
   ]
  },
  {
   "cell_type": "code",
   "execution_count": null,
   "metadata": {},
   "outputs": [],
   "source": [
    "# Display another image\n",
    "# Images do not have to be the same size\n",
    "Image.fromarray(ds_read.images[3].numpy())"
   ]
  },
  {
   "cell_type": "markdown",
   "metadata": {},
   "source": [
    "# Connecting Dataset to PyTorch"
   ]
  },
  {
   "cell_type": "code",
   "execution_count": null,
   "metadata": {},
   "outputs": [],
   "source": [
    "import torch"
   ]
  },
  {
   "cell_type": "code",
   "execution_count": null,
   "metadata": {},
   "outputs": [],
   "source": [
    "# Create pytorch dataloader\n",
    "train_loader = torch.utils.data.DataLoader(ds_read.pytorch())"
   ]
  },
  {
   "cell_type": "code",
   "execution_count": null,
   "metadata": {},
   "outputs": [],
   "source": [
    "# Iterate through pytorch dataloader\n",
    "for data in train_loader:\n",
    "    print(data[\"images\"].shape)\n",
    "    break"
   ]
  },
  {
   "cell_type": "code",
   "execution_count": null,
   "metadata": {},
   "outputs": [],
   "source": []
  }
 ],
 "metadata": {
  "kernelspec": {
   "display_name": "Python 3",
   "language": "python",
   "name": "python3"
  },
  "language_info": {
   "codemirror_mode": {
    "name": "ipython",
    "version": 3
   },
   "file_extension": ".py",
   "mimetype": "text/x-python",
   "name": "python",
   "nbconvert_exporter": "python",
   "pygments_lexer": "ipython3",
   "version": "3.8.10"
  }
 },
 "nbformat": 4,
 "nbformat_minor": 2
}
